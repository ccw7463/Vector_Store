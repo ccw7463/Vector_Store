{
 "cells": [
  {
   "cell_type": "markdown",
   "metadata": {},
   "source": [
    "### Vector Store 사용하는 방식 크게 두가지\n",
    "1. faiss library 사용\n",
    "2. langchain 사용"
   ]
  },
  {
   "cell_type": "code",
   "execution_count": 3,
   "metadata": {},
   "outputs": [],
   "source": [
    "# !pip install faiss-gpu"
   ]
  },
  {
   "cell_type": "markdown",
   "metadata": {},
   "source": [
    "### 1. faiss 사용 sample"
   ]
  },
  {
   "cell_type": "code",
   "execution_count": 1,
   "metadata": {},
   "outputs": [],
   "source": [
    "import numpy as np\n",
    "import faiss"
   ]
  },
  {
   "cell_type": "code",
   "execution_count": 2,
   "metadata": {},
   "outputs": [],
   "source": [
    "# 예제 데이터 생성\n",
    "data = np.random.random((10000, 128)).astype('float32')\n",
    "\n",
    "# Faiss 인덱스 생성\n",
    "index = faiss.IndexFlatL2(128)  # L2 거리를 사용하는 인덱스 \n",
    "\n",
    "# 데이터를 인덱스에 추가\n",
    "index.add(data)"
   ]
  },
  {
   "cell_type": "code",
   "execution_count": 3,
   "metadata": {},
   "outputs": [
    {
     "name": "stdout",
     "output_type": "stream",
     "text": [
      "(1, 128)\n",
      "가장 가까운 이웃의 거리: [[15.151188  15.2391615 15.378507  15.3864355 15.456718 ]]\n",
      "가장 가까운 이웃의 인덱스: [[3837 3854 9477 1709 8232]]\n"
     ]
    }
   ],
   "source": [
    "# 검색할 쿼리 벡터 생성\n",
    "query_vector = np.random.random((1, 128)).astype('float32')\n",
    "print(query_vector.shape)\n",
    "\n",
    "# 검색 실행 (query_vector과 가까운 데이터 k개 추출 (L2 기반))\n",
    "k = 5  \n",
    "D, I = index.search(query_vector, k)\n",
    "\n",
    "# 결과 출력\n",
    "print(\"가장 가까운 이웃의 거리:\", D)\n",
    "print(\"가장 가까운 이웃의 인덱스:\", I)"
   ]
  },
  {
   "cell_type": "markdown",
   "metadata": {},
   "source": [
    "### 2. Langchain 사용\n",
    "- Langchain에서 다양한 vector store 관련된 다양한 코드 제공\n",
    "- https://python.langchain.com/docs/integrations/vectorstores\n",
    "- (1) 데이터 로드\n",
    "- (2) 데이터 처리\n",
    "- (3) vector store에 넣을 docs 및 임베딩 지정\n",
    "- (4) vector store 생성 및 저장\n",
    "- (5) 테스트"
   ]
  },
  {
   "cell_type": "markdown",
   "metadata": {},
   "source": [
    "(1) 데이터 로드"
   ]
  },
  {
   "cell_type": "code",
   "execution_count": 4,
   "metadata": {},
   "outputs": [
    {
     "data": {
      "text/html": [
       "<div>\n",
       "<style scoped>\n",
       "    .dataframe tbody tr th:only-of-type {\n",
       "        vertical-align: middle;\n",
       "    }\n",
       "\n",
       "    .dataframe tbody tr th {\n",
       "        vertical-align: top;\n",
       "    }\n",
       "\n",
       "    .dataframe thead th {\n",
       "        text-align: right;\n",
       "    }\n",
       "</style>\n",
       "<table border=\"1\" class=\"dataframe\">\n",
       "  <thead>\n",
       "    <tr style=\"text-align: right;\">\n",
       "      <th></th>\n",
       "      <th>t_job_code</th>\n",
       "      <th>train_title</th>\n",
       "      <th>train_contents</th>\n",
       "    </tr>\n",
       "  </thead>\n",
       "  <tbody>\n",
       "    <tr>\n",
       "      <th>0</th>\n",
       "      <td>231100</td>\n",
       "      <td>[원패스] 사회복지사 1급 필기시험 대비 단과반(사회복지 실천)</td>\n",
       "      <td>{'훈련목표': '1. 사회복지 실천 현장에서 실천기술을 함양을 위해 사회복지사가 ...</td>\n",
       "    </tr>\n",
       "    <tr>\n",
       "      <th>1</th>\n",
       "      <td>231400</td>\n",
       "      <td>[원패스] 직업상담사 2급 필기 1(직업상담학+직업심리학+노동시장론)</td>\n",
       "      <td>{'훈련목표': '직업상담사에 대한 이론 지식을 습득한다.\\n직업상담사 관련 용어를...</td>\n",
       "    </tr>\n",
       "    <tr>\n",
       "      <th>2</th>\n",
       "      <td>31100</td>\n",
       "      <td>토마토패스 신용분석사 2부 자격대비과정</td>\n",
       "      <td>{'훈련목표': '1. 신용분석사 2부 자격증의 주요내용을 이해할 수 있다.2. 신...</td>\n",
       "    </tr>\n",
       "    <tr>\n",
       "      <th>3</th>\n",
       "      <td>134900</td>\n",
       "      <td>[상위1% 빅데이터 ] 기업이 주목하는 Hadoop 제대로 배우기</td>\n",
       "      <td>{'훈련목표': '빅데이터 용어에 대한 이해를 시작으로 HDFS, YARN 을 통한 하</td>\n",
       "    </tr>\n",
       "    <tr>\n",
       "      <th>4</th>\n",
       "      <td>26100</td>\n",
       "      <td>작은 아이디어로 만드는 연매출 3조 경영 성공 전략</td>\n",
       "      <td>{'훈련목표': '1) 아이디어를 성공시키는 경영 핵심 전략에 대해 설명할 수 있다...</td>\n",
       "    </tr>\n",
       "  </tbody>\n",
       "</table>\n",
       "</div>"
      ],
      "text/plain": [
       "   t_job_code                             train_title  \\\n",
       "0      231100     [원패스] 사회복지사 1급 필기시험 대비 단과반(사회복지 실천)   \n",
       "1      231400  [원패스] 직업상담사 2급 필기 1(직업상담학+직업심리학+노동시장론)   \n",
       "2       31100                   토마토패스 신용분석사 2부 자격대비과정   \n",
       "3      134900    [상위1% 빅데이터 ] 기업이 주목하는 Hadoop 제대로 배우기   \n",
       "4       26100            작은 아이디어로 만드는 연매출 3조 경영 성공 전략   \n",
       "\n",
       "                                      train_contents  \n",
       "0  {'훈련목표': '1. 사회복지 실천 현장에서 실천기술을 함양을 위해 사회복지사가 ...  \n",
       "1  {'훈련목표': '직업상담사에 대한 이론 지식을 습득한다.\\n직업상담사 관련 용어를...  \n",
       "2  {'훈련목표': '1. 신용분석사 2부 자격증의 주요내용을 이해할 수 있다.2. 신...  \n",
       "3   {'훈련목표': '빅데이터 용어에 대한 이해를 시작으로 HDFS, YARN 을 통한 하  \n",
       "4  {'훈련목표': '1) 아이디어를 성공시키는 경영 핵심 전략에 대해 설명할 수 있다...  "
      ]
     },
     "execution_count": 4,
     "metadata": {},
     "output_type": "execute_result"
    }
   ],
   "source": [
    "import pandas as pd\n",
    "df = pd.read_excel(\"testdata.xlsx\")\n",
    "df = df[[\"t_job_code\",\"train_title\",\"train_contents\"]]\n",
    "df.head()"
   ]
  },
  {
   "cell_type": "markdown",
   "metadata": {},
   "source": [
    "(2) 데이터 처리, (3) Docs 및 임베딩 지정"
   ]
  },
  {
   "cell_type": "code",
   "execution_count": 5,
   "metadata": {},
   "outputs": [
    {
     "name": "stderr",
     "output_type": "stream",
     "text": [
      "/usr/local/lib/python3.8/dist-packages/tqdm/auto.py:21: TqdmWarning: IProgress not found. Please update jupyter and ipywidgets. See https://ipywidgets.readthedocs.io/en/stable/user_install.html\n",
      "  from .autonotebook import tqdm as notebook_tqdm\n",
      "/usr/local/lib/python3.8/dist-packages/torch/cuda/__init__.py:138: UserWarning: CUDA initialization: The NVIDIA driver on your system is too old (found version 11060). Please update your GPU driver by downloading and installing a new version from the URL: http://www.nvidia.com/Download/index.aspx Alternatively, go to: https://pytorch.org to install a PyTorch version that has been compiled with your version of the CUDA driver. (Triggered internally at ../c10/cuda/CUDAFunctions.cpp:108.)\n",
      "  return torch._C._cuda_getDeviceCount() > 0\n"
     ]
    },
    {
     "data": {
      "text/plain": [
       "'\\nembeddings = OpenAIEmbeddings()\\napi_key = \"<본인 api key 사용>\"\\nos.environ[\"OPENAI_API_KEY\"] = api_key\\n'"
      ]
     },
     "execution_count": 5,
     "metadata": {},
     "output_type": "execute_result"
    }
   ],
   "source": [
    "# 데이터 수집\n",
    "import ast\n",
    "text_lst = []\n",
    "for idx in range(len(df)):\n",
    "    try:\n",
    "        # ast를 사용해서 문자열로 된 딕셔너리를 Python 딕셔너리 객체로 변환후 텍스트 결합\n",
    "        insert_text = f\"직업훈련중 <{df.loc[idx]['train_title']}>의 훈련목표는 다음과 같습니다.\"\n",
    "        insert_text += ast.literal_eval(df.loc[idx][\"train_contents\"])[\"훈련목표\"]\n",
    "        text_lst.append(insert_text)\n",
    "    except:\n",
    "        pass\n",
    "\n",
    "# vector store에 넣을 docs 생성\n",
    "# 트러블슈팅 출처 : https://github.com/langchain-ai/langchain/issues/3799\n",
    "from langchain.text_splitter import CharacterTextSplitter\n",
    "text_splitter = CharacterTextSplitter(chunk_size=1000, chunk_overlap=0)\n",
    "docs = text_splitter.create_documents(text_lst)\n",
    "\n",
    "# 임베딩 지정 (허깅페이스)\n",
    "from langchain.embeddings.huggingface import HuggingFaceEmbeddings\n",
    "embeddings = HuggingFaceEmbeddings(model_name=\"all-MiniLM-L6-v2\")\n",
    "\n",
    "# 임베딩 지정 (openai embedding 사용)\n",
    "from langchain.embeddings.openai import OpenAIEmbeddings\n",
    "'''\n",
    "embeddings = OpenAIEmbeddings()\n",
    "api_key = \"<본인 api key 사용>\"\n",
    "os.environ[\"OPENAI_API_KEY\"] = api_key\n",
    "'''"
   ]
  },
  {
   "cell_type": "markdown",
   "metadata": {},
   "source": [
    "(4) Vector Store 생성 및 저장"
   ]
  },
  {
   "cell_type": "code",
   "execution_count": 7,
   "metadata": {},
   "outputs": [
    {
     "name": "stdout",
     "output_type": "stream",
     "text": [
      "해당 경로에 이미 vector store가 있습니다. 해당 vector store를 가져옵니다.\n"
     ]
    }
   ],
   "source": [
    "# Vector Store 생성 및 저장\n",
    "import os\n",
    "from langchain.vectorstores import FAISS\n",
    "\n",
    "VECTOR_STORE_PATH = \"DB/faiss_ver1\"\n",
    "if os.path.exists(VECTOR_STORE_PATH):\n",
    "    print(\"해당 경로에 이미 vector store가 있습니다. 해당 vector store를 가져옵니다.\")\n",
    "    db = FAISS.load_local(\"DB/faiss_ver1\", embeddings)\n",
    "else:\n",
    "    print('해당 경로에 vector store가 없으므로, 생성 및 저장합니다.')\n",
    "    db = FAISS.from_documents(docs, embeddings) \n",
    "    db.save_local(\"DB/faiss_ver1\")"
   ]
  },
  {
   "cell_type": "markdown",
   "metadata": {},
   "source": [
    "(5) 테스트\n",
    "- similarity_search : 점수 없이 반환\n",
    "- similarity_search_with_score : 점수 포함하여 반환"
   ]
  },
  {
   "cell_type": "code",
   "execution_count": 8,
   "metadata": {},
   "outputs": [],
   "source": [
    "# 테스트 \n",
    "query = \"인공지능 관련 직업교육\"\n",
    "result_1 = db.similarity_search(query)\n",
    "result_2 = db.similarity_search_with_score(query,k=10)"
   ]
  },
  {
   "cell_type": "code",
   "execution_count": 9,
   "metadata": {},
   "outputs": [
    {
     "name": "stdout",
     "output_type": "stream",
     "text": [
      "[Document(page_content='직업훈련중 <전기기기제작 기술자 향상과정>의 훈련목표는 다음과 같습니다.-'),\n",
      " Document(page_content='직업훈련중 <저탄소 녹색성장을 위한 도시조경>의 훈련목표는 다음과 같습니다.-'),\n",
      " Document(page_content='직업훈련중 <탄소중립 도시조성을 위한 조경실무자 양성과정>의 훈련목표는 다음과 같습니다.-'),\n",
      " Document(page_content='직업훈련중 <업무가100배빨라지는엑셀함수와데이터관리>의 훈련목표는 다음과 같습니다.-수식과함수및여러엑셀의기능을이용하여효과적인작업을할수있다-업무에필요한자료를수집하고분석․가공하여목적에맞게분석할수있다')]\n",
      "--------------------\n",
      "직업훈련중 <전기기기제작 기술자 향상과정>의 훈련목표는 다음과 같습니다.-\n"
     ]
    }
   ],
   "source": [
    "import pprint\n",
    "pprint.pprint(result_1)\n",
    "print('-'*20)\n",
    "print(result_1[0].page_content)"
   ]
  },
  {
   "cell_type": "markdown",
   "metadata": {},
   "source": [
    "### 3. 시각화"
   ]
  },
  {
   "cell_type": "code",
   "execution_count": 12,
   "metadata": {},
   "outputs": [
    {
     "name": "stderr",
     "output_type": "stream",
     "text": [
      "huggingface/tokenizers: The current process just got forked, after parallelism has already been used. Disabling parallelism to avoid deadlocks...\n",
      "To disable this warning, you can either:\n",
      "\t- Avoid using `tokenizers` before the fork if possible\n",
      "\t- Explicitly set the environment variable TOKENIZERS_PARALLELISM=(true | false)\n"
     ]
    }
   ],
   "source": [
    "from sklearn.cluster import KMeans\n",
    "import seaborn as sns\n",
    "import matplotlib.pyplot as plt\n",
    "from sklearn.decomposition import PCA"
   ]
  },
  {
   "cell_type": "code",
   "execution_count": 14,
   "metadata": {},
   "outputs": [],
   "source": [
    "# 일부 데이터에 대해 진행할경우\n",
    "queries_1 = [i.page_content for i in db.similarity_search(\"유튜브\",20)]\n",
    "query_embedding_1 = np.array([embeddings.embed_query(i) for i in queries_1])\n",
    "queries_2 = [i.page_content for i in db.similarity_search(\"데이터\",20)]\n",
    "query_embedding_2 = np.array([embeddings.embed_query(i) for i in queries_2])\n",
    "queries_3 = [i.page_content for i in db.similarity_search(\"자동차\",20)]\n",
    "query_embedding_3 = np.array([embeddings.embed_query(i) for i in queries_3])\n",
    "\n",
    "# \"유튜브\" + \"데이터\" 키워드 결합\n",
    "query_embedding_4 = [i*0.5+j*0.5 for i,j in zip(query_embedding_1,query_embedding_2)]\n",
    "\n",
    "# embedding vectors \n",
    "embeddings_vectors = np.vstack((query_embedding_1, query_embedding_2, query_embedding_3, query_embedding_4))"
   ]
  },
  {
   "cell_type": "code",
   "execution_count": 15,
   "metadata": {},
   "outputs": [
    {
     "name": "stderr",
     "output_type": "stream",
     "text": [
      "/usr/local/lib/python3.8/dist-packages/sklearn/cluster/_kmeans.py:1416: FutureWarning: The default value of `n_init` will change from 10 to 'auto' in 1.4. Set the value of `n_init` explicitly to suppress the warning\n",
      "  super()._check_params_vs_input(X, default_n_init=10)\n",
      "huggingface/tokenizers: The current process just got forked, after parallelism has already been used. Disabling parallelism to avoid deadlocks...\n",
      "To disable this warning, you can either:\n",
      "\t- Avoid using `tokenizers` before the fork if possible\n",
      "\t- Explicitly set the environment variable TOKENIZERS_PARALLELISM=(true | false)\n",
      "huggingface/tokenizers: The current process just got forked, after parallelism has already been used. Disabling parallelism to avoid deadlocks...\n",
      "To disable this warning, you can either:\n",
      "\t- Avoid using `tokenizers` before the fork if possible\n",
      "\t- Explicitly set the environment variable TOKENIZERS_PARALLELISM=(true | false)\n",
      "/tmp/ipykernel_79568/1561047745.py:27: UserWarning: *c* argument looks like a single numeric RGB or RGBA sequence, which should be avoided as value-mapping will have precedence in case its length matches with *x* & *y*.  Please use the *color* keyword-argument or provide a 2D array with a single row if you intend to specify the same RGB or RGBA value for all points.\n",
      "  plt.scatter(reduced_vectors[i, 0],\n",
      "/tmp/ipykernel_79568/1561047745.py:33: UserWarning: *c* argument looks like a single numeric RGB or RGBA sequence, which should be avoided as value-mapping will have precedence in case its length matches with *x* & *y*.  Please use the *color* keyword-argument or provide a 2D array with a single row if you intend to specify the same RGB or RGBA value for all points.\n",
      "  plt.scatter(reduced_vectors[i, 0],\n"
     ]
    },
    {
     "data": {
      "image/png": "[encoded data removed]",
      "text/plain": [
       "<Figure size 640x480 with 1 Axes>"
      ]
     },
     "metadata": {},
     "output_type": "display_data"
    }
   ],
   "source": [
    "# PCA를 사용하여 차원을 2D로 축소\n",
    "pca = PCA(n_components=2)\n",
    "reduced_vectors = pca.fit_transform(embeddings_vectors)\n",
    "\n",
    "# K-Means 클러스터링\n",
    "num_clusters = 4\n",
    "kmeans = KMeans(n_clusters=num_clusters)\n",
    "cluster_labels = kmeans.fit_predict(reduced_vectors)\n",
    "\n",
    "# 클러스터별 색상 할당\n",
    "cluster_colors = sns.color_palette('Set2', n_colors=num_clusters)\n",
    "\n",
    "# 클러스별 레이블\n",
    "cluster_lst = []\n",
    "for i in cluster_labels:\n",
    "    if i not in cluster_lst:\n",
    "        cluster_lst.append(i)\n",
    "    else:\n",
    "        pass\n",
    "    \n",
    "cluster_dict = {i:j for i,j in zip(cluster_lst,['youtube','data','car','youtube_and_data_combined'])}\n",
    "\n",
    "# 시각화\n",
    "use_cluster_num = []\n",
    "for i,cluster_num in zip(range(reduced_vectors.shape[0]),cluster_labels):\n",
    "    if cluster_num not in use_cluster_num:\n",
    "        plt.scatter(reduced_vectors[i, 0], \n",
    "                    reduced_vectors[i, 1], \n",
    "                    c=cluster_colors[cluster_labels[i]],\n",
    "                    label=cluster_dict[cluster_num])\n",
    "        use_cluster_num.append(cluster_num)\n",
    "    else:\n",
    "        plt.scatter(reduced_vectors[i, 0], \n",
    "            reduced_vectors[i, 1], \n",
    "            c=cluster_colors[cluster_labels[i]])\n",
    "\n",
    "plt.title('Embedding Vector Plotting')\n",
    "plt.legend()\n",
    "plt.show()"
   ]
  }
 ],
 "metadata": {
  "kernelspec": {
   "display_name": "Python 3",
   "language": "python",
   "name": "python3"
  },
  "language_info": {
   "codemirror_mode": {
    "name": "ipython",
    "version": 3
   },
   "file_extension": ".py",
   "mimetype": "text/x-python",
   "name": "python",
   "nbconvert_exporter": "python",
   "pygments_lexer": "ipython3",
   "version": "3.8.10"
  }
 },
 "nbformat": 4,
 "nbformat_minor": 2
}
